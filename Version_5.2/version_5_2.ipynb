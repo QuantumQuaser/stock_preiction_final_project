{
  "nbformat": 4,
  "nbformat_minor": 0,
  "metadata": {
    "colab": {
      "provenance": []
    },
    "kernelspec": {
      "name": "python3",
      "display_name": "Python 3"
    },
    "language_info": {
      "name": "python"
    }
  },
  "cells": [
    {
      "cell_type": "code",
      "execution_count": 1,
      "metadata": {
        "id": "rFpCPGYVDoNP"
      },
      "outputs": [],
      "source": [
        "import yfinance as yf\n",
        "import pandas as pd\n"
      ]
    },
    {
      "cell_type": "code",
      "source": [
        "# Define the stocks and the period for data fetching\n",
        "stocks = ['BAJFINANCE.NS', 'HDFCAMC.NS', 'ASIANPAINT.NS', 'TCS.NS', 'DRREDDY.NS']\n",
        "start_date = '2013-01-01'  # Start date set to 10 years ago\n",
        "end_date = '2023-01-01'    # End date set to the start of 2023\n"
      ],
      "metadata": {
        "id": "abwmqP4eDuHQ"
      },
      "execution_count": 2,
      "outputs": []
    },
    {
      "cell_type": "code",
      "source": [
        "# Fetch data from Yahoo Finance\n",
        "def fetch_data(ticker):\n",
        "    \"\"\"\n",
        "    Fetches historical data for a given ticker from Yahoo Finance.\n",
        "    :param ticker: Stock symbol.\n",
        "    :return: DataFrame with historical data.\n",
        "    \"\"\"\n",
        "    return yf.download(ticker, start=start_date, end=end_date)"
      ],
      "metadata": {
        "id": "60BDGjrFD1Jg"
      },
      "execution_count": 3,
      "outputs": []
    },
    {
      "cell_type": "code",
      "source": [
        "# Get data for each stock\n",
        "stock_data = {stock: fetch_data(stock) for stock in stocks}\n"
      ],
      "metadata": {
        "colab": {
          "base_uri": "https://localhost:8080/"
        },
        "id": "lue7GurvD2dO",
        "outputId": "d88d7c30-3359-4a51-cee8-d24268528053"
      },
      "execution_count": 4,
      "outputs": [
        {
          "output_type": "stream",
          "name": "stdout",
          "text": [
            "[*********************100%%**********************]  1 of 1 completed\n",
            "[*********************100%%**********************]  1 of 1 completed\n",
            "[*********************100%%**********************]  1 of 1 completed\n",
            "[*********************100%%**********************]  1 of 1 completed\n",
            "[*********************100%%**********************]  1 of 1 completed\n"
          ]
        }
      ]
    },
    {
      "cell_type": "code",
      "source": [
        "#Displaying the first few rows of one of the stock data\n",
        "print(stock_data['BAJFINANCE.NS'].head())"
      ],
      "metadata": {
        "id": "O8dI1iqiD8DY"
      },
      "execution_count": null,
      "outputs": []
    },
    {
      "cell_type": "markdown",
      "source": [
        "**Feature Engineering:[Indicators,sentiment Analysis,Nifty Trend]**"
      ],
      "metadata": {
        "id": "OJwS0ULIGAhU"
      }
    },
    {
      "cell_type": "code",
      "source": [
        "import pandas as pd"
      ],
      "metadata": {
        "id": "v2b2FFi4GJLC"
      },
      "execution_count": 7,
      "outputs": []
    },
    {
      "cell_type": "markdown",
      "source": [
        "1. MACD Calculation\n",
        "MACD is calculated by subtracting the 26-period Exponential Moving Average (EMA) from the 12-period EMA."
      ],
      "metadata": {
        "id": "MQxKXqhWGQXk"
      }
    },
    {
      "cell_type": "code",
      "source": [
        "def calculate_macd(data, slow=26, fast=12, signal=9):\n",
        "    \"\"\"\n",
        "    Calculate MACD indicator.\n",
        "    :param data: DataFrame with stock data.\n",
        "    :param slow: Number of periods for slow EMA.\n",
        "    :param fast: Number of periods for fast EMA.\n",
        "    :param signal: Number of periods for signal line.\n",
        "    :return: DataFrame with MACD columns added.\n",
        "    \"\"\"\n",
        "    data['EMA12'] = data['Close'].ewm(span=fast, adjust=False).mean()\n",
        "    data['EMA26'] = data['Close'].ewm(span=slow, adjust=False).mean()\n",
        "    data['MACD'] = data['EMA12'] - data['EMA26']\n",
        "    data['MACD_Signal'] = data['MACD'].ewm(span=signal, adjust=False).mean()\n",
        "    return data"
      ],
      "metadata": {
        "id": "AndCSt7_GMJS"
      },
      "execution_count": 8,
      "outputs": []
    },
    {
      "cell_type": "markdown",
      "source": [
        "2. RSI Calculation\n",
        "RSI is calculated based on average gains and losses over a specified period, typically 14 days.\n",
        "\n"
      ],
      "metadata": {
        "id": "z6Qy4q1HGffi"
      }
    },
    {
      "cell_type": "code",
      "source": [
        "def calculate_rsi(data, periods=14):\n",
        "    \"\"\"\n",
        "    Calculate RSI indicator.\n",
        "    :param data: DataFrame with stock data.\n",
        "    :param periods: Number of periods to calculate RSI.\n",
        "    :return: DataFrame with RSI column added.\n",
        "    \"\"\"\n",
        "    delta = data['Close'].diff()\n",
        "    gain = (delta.where(delta > 0, 0)).rolling(window=periods).mean()\n",
        "    loss = (-delta.where(delta < 0, 0)).rolling(window=periods).mean()\n",
        "\n",
        "    rs = gain / loss\n",
        "    data['RSI'] = 100 - (100 / (1 + rs))\n",
        "    return data"
      ],
      "metadata": {
        "id": "PfIAWKiYGcHx"
      },
      "execution_count": 9,
      "outputs": []
    },
    {
      "cell_type": "markdown",
      "source": [
        "3. Bollinger Bands Calculation\n",
        "Bollinger Bands consist of three lines: the middle band is a simple moving average (typically over 20 days), and the upper and lower bands are calculated as two standard deviations away from the middle band."
      ],
      "metadata": {
        "id": "gI3vz0CkGlYI"
      }
    },
    {
      "cell_type": "code",
      "source": [
        "def calculate_bollinger_bands(data, window=20, num_of_std=2):\n",
        "    \"\"\"\n",
        "    Calculate Bollinger Bands.\n",
        "    :param data: DataFrame with stock data.\n",
        "    :param window: Moving average window size.\n",
        "    :param num_of_std: Number of standard deviations for the bands.\n",
        "    :return: DataFrame with Bollinger Bands columns added.\n",
        "    \"\"\"\n",
        "    data['Middle_Band'] = data['Close'].rolling(window=window).mean()\n",
        "    data['STD'] = data['Close'].rolling(window=window).std()\n",
        "    data['Upper_Band'] = data['Middle_Band'] + (data['STD'] * num_of_std)\n",
        "    data['Lower_Band'] = data['Middle_Band'] - (data['STD'] * num_of_std)\n",
        "    return data"
      ],
      "metadata": {
        "id": "8qHxryGkGpKd"
      },
      "execution_count": 10,
      "outputs": []
    },
    {
      "cell_type": "code",
      "source": [
        "# Sample usage for one stock\n",
        "sample_data = stock_data['BAJFINANCE.NS']\n",
        "sample_data = calculate_macd(sample_data)\n",
        "sample_data = calculate_rsi(sample_data)\n",
        "sample_data = calculate_bollinger_bands(sample_data)\n",
        "\n",
        "# Display the data with the new indicators\n",
        "print(sample_data.head())"
      ],
      "metadata": {
        "colab": {
          "base_uri": "https://localhost:8080/"
        },
        "id": "swKdfrcyGt5L",
        "outputId": "6d8dd531-8740-4249-e307-04dfb680f8c1"
      },
      "execution_count": 11,
      "outputs": [
        {
          "output_type": "stream",
          "name": "stdout",
          "text": [
            "                  Open        High         Low       Close   Adj Close  \\\n",
            "Date                                                                     \n",
            "2013-01-01  131.678406  133.378677  131.610397  132.635406  126.483398   \n",
            "2013-01-02  134.063644  134.078217  130.400772  131.178040  125.093620   \n",
            "2013-01-03  132.586838  139.290741  131.649261  134.709747  128.461517   \n",
            "2013-01-04  134.559143  136.978378  134.466843  134.772888  128.521713   \n",
            "2013-01-07  135.438431  137.571045  133.713867  134.573715  128.331787   \n",
            "\n",
            "            Volume       EMA12       EMA26      MACD  MACD_Signal  RSI  \\\n",
            "Date                                                                     \n",
            "2013-01-01  139432  132.635406  132.635406  0.000000     0.000000  NaN   \n",
            "2013-01-02  316514  132.411196  132.527453 -0.116257    -0.023251  NaN   \n",
            "2013-01-03  479558  132.764819  132.689105  0.075715    -0.003458  NaN   \n",
            "2013-01-04  279019  133.073753  132.843459  0.230294     0.043292  NaN   \n",
            "2013-01-07  232013  133.304516  132.971626  0.332890     0.101212  NaN   \n",
            "\n",
            "            Middle_Band  STD  Upper_Band  Lower_Band  \n",
            "Date                                                  \n",
            "2013-01-01          NaN  NaN         NaN         NaN  \n",
            "2013-01-02          NaN  NaN         NaN         NaN  \n",
            "2013-01-03          NaN  NaN         NaN         NaN  \n",
            "2013-01-04          NaN  NaN         NaN         NaN  \n",
            "2013-01-07          NaN  NaN         NaN         NaN  \n"
          ]
        }
      ]
    },
    {
      "cell_type": "markdown",
      "source": [
        "4.Fibonacci Retracement Levels\n",
        "Fibonacci retracement levels are horizontal lines that indicate where support and resistance are likely to occur. They are based on Fibonacci numbers. We'll use the highest and lowest prices over the stock's recent period to calculate these levels."
      ],
      "metadata": {
        "id": "Ai0bkSETHBPg"
      }
    },
    {
      "cell_type": "code",
      "source": [
        "def calculate_fibonacci_retracement(data):\n",
        "    \"\"\"\n",
        "    Calculate Fibonacci retracement levels.\n",
        "    :param data: DataFrame with stock data.\n",
        "    :return: DataFrame with Fibonacci levels added.\n",
        "    \"\"\"\n",
        "    max_price = data['High'].max()\n",
        "    min_price = data['Low'].min()\n",
        "    diff = max_price - min_price\n",
        "    data['Fibonacci_Level_1'] = max_price - 0.236 * diff\n",
        "    data['Fibonacci_Level_2'] = max_price - 0.382 * diff\n",
        "    data['Fibonacci_Level_3'] = max_price - 0.618 * diff\n",
        "    return data"
      ],
      "metadata": {
        "id": "LcjfkYG7G6An"
      },
      "execution_count": 12,
      "outputs": []
    },
    {
      "cell_type": "markdown",
      "source": [
        "5.Average True Range (ATR)\n",
        "ATR measures market volatility by decomposing the entire range of an asset price for that period. It's typically calculated over 14 days."
      ],
      "metadata": {
        "id": "JsdW7WdXHL9t"
      }
    },
    {
      "cell_type": "code",
      "source": [
        "def calculate_atr(data, period=14):\n",
        "    \"\"\"\n",
        "    Calculate Average True Range (ATR).\n",
        "    :param data: DataFrame with stock data.\n",
        "    :param period: Period over which to calculate ATR.\n",
        "    :return: DataFrame with ATR column added.\n",
        "    \"\"\"\n",
        "    data['High-Low'] = data['High'] - data['Low']\n",
        "    data['High-Close'] = abs(data['High'] - data['Close'].shift())\n",
        "    data['Low-Close'] = abs(data['Low'] - data['Close'].shift())\n",
        "    data['TR'] = data[['High-Low', 'High-Close', 'Low-Close']].max(axis=1)\n",
        "    data['ATR'] = data['TR'].rolling(window=period).mean()\n",
        "    return data.drop(['High-Low', 'High-Close', 'Low-Close', 'TR'], axis=1)"
      ],
      "metadata": {
        "id": "1KI4Y02pHOhX"
      },
      "execution_count": 13,
      "outputs": []
    },
    {
      "cell_type": "code",
      "source": [
        "# Looping through each stock's DataFrame and applying the calculations\n",
        "for stock in stock_data:\n",
        "    stock_data[stock] = calculate_macd(stock_data[stock])\n",
        "    stock_data[stock] = calculate_rsi(stock_data[stock])\n",
        "    stock_data[stock] = calculate_bollinger_bands(stock_data[stock])\n",
        "    stock_data[stock] = calculate_fibonacci_retracement(stock_data[stock])\n",
        "    stock_data[stock] = calculate_atr(stock_data[stock])"
      ],
      "metadata": {
        "id": "TkCsFtE4QssX"
      },
      "execution_count": 38,
      "outputs": []
    },
    {
      "cell_type": "code",
      "source": [
        "# Example usage for one stock\n",
        "sample_data = stock_data['BAJFINANCE.NS']\n",
        "sample_data = calculate_macd(sample_data)\n",
        "sample_data = calculate_rsi(sample_data)\n",
        "sample_data = calculate_bollinger_bands(sample_data)\n",
        "sample_data = calculate_fibonacci_retracement(sample_data)\n",
        "sample_data = calculate_atr(sample_data)\n",
        "\n",
        "# Display the data with the new indicators\n",
        "print(sample_data.head())"
      ],
      "metadata": {
        "colab": {
          "base_uri": "https://localhost:8080/"
        },
        "id": "06-02_1kHTjX",
        "outputId": "2033256e-b2de-4833-a3eb-7c678a94265e"
      },
      "execution_count": 14,
      "outputs": [
        {
          "output_type": "stream",
          "name": "stdout",
          "text": [
            "                  Open        High         Low       Close   Adj Close  \\\n",
            "Date                                                                     \n",
            "2013-01-01  131.678406  133.378677  131.610397  132.635406  126.483398   \n",
            "2013-01-02  134.063644  134.078217  130.400772  131.178040  125.093620   \n",
            "2013-01-03  132.586838  139.290741  131.649261  134.709747  128.461517   \n",
            "2013-01-04  134.559143  136.978378  134.466843  134.772888  128.521713   \n",
            "2013-01-07  135.438431  137.571045  133.713867  134.573715  128.331787   \n",
            "\n",
            "            Volume       EMA12       EMA26      MACD  MACD_Signal  RSI  \\\n",
            "Date                                                                     \n",
            "2013-01-01  139432  132.635406  132.635406  0.000000     0.000000  NaN   \n",
            "2013-01-02  316514  132.411196  132.527453 -0.116257    -0.023251  NaN   \n",
            "2013-01-03  479558  132.764819  132.689105  0.075715    -0.003458  NaN   \n",
            "2013-01-04  279019  133.073753  132.843459  0.230294     0.043292  NaN   \n",
            "2013-01-07  232013  133.304516  132.971626  0.332890     0.101212  NaN   \n",
            "\n",
            "            Middle_Band  STD  Upper_Band  Lower_Band  Fibonacci_Level_1  \\\n",
            "Date                                                                      \n",
            "2013-01-01          NaN  NaN         NaN         NaN         6172.98108   \n",
            "2013-01-02          NaN  NaN         NaN         NaN         6172.98108   \n",
            "2013-01-03          NaN  NaN         NaN         NaN         6172.98108   \n",
            "2013-01-04          NaN  NaN         NaN         NaN         6172.98108   \n",
            "2013-01-07          NaN  NaN         NaN         NaN         6172.98108   \n",
            "\n",
            "            Fibonacci_Level_2  Fibonacci_Level_3  ATR  \n",
            "Date                                                   \n",
            "2013-01-01         5011.77446        3134.755539  NaN  \n",
            "2013-01-02         5011.77446        3134.755539  NaN  \n",
            "2013-01-03         5011.77446        3134.755539  NaN  \n",
            "2013-01-04         5011.77446        3134.755539  NaN  \n",
            "2013-01-07         5011.77446        3134.755539  NaN  \n"
          ]
        }
      ]
    },
    {
      "cell_type": "markdown",
      "source": [
        "**Sentiment Analysis:** Fetching headlines"
      ],
      "metadata": {
        "id": "AFSqlLjyIMnl"
      }
    },
    {
      "cell_type": "code",
      "source": [
        "pip install requests beautifulsoup4\n"
      ],
      "metadata": {
        "colab": {
          "base_uri": "https://localhost:8080/"
        },
        "id": "jJ3oBAzkLzyD",
        "outputId": "8b0fe608-0752-47b6-cbc1-44832b8b9c42"
      },
      "execution_count": 27,
      "outputs": [
        {
          "output_type": "stream",
          "name": "stdout",
          "text": [
            "Requirement already satisfied: requests in /usr/local/lib/python3.10/dist-packages (2.31.0)\n",
            "Requirement already satisfied: beautifulsoup4 in /usr/local/lib/python3.10/dist-packages (4.11.2)\n",
            "Requirement already satisfied: charset-normalizer<4,>=2 in /usr/local/lib/python3.10/dist-packages (from requests) (3.3.2)\n",
            "Requirement already satisfied: idna<4,>=2.5 in /usr/local/lib/python3.10/dist-packages (from requests) (3.6)\n",
            "Requirement already satisfied: urllib3<3,>=1.21.1 in /usr/local/lib/python3.10/dist-packages (from requests) (2.0.7)\n",
            "Requirement already satisfied: certifi>=2017.4.17 in /usr/local/lib/python3.10/dist-packages (from requests) (2023.11.17)\n",
            "Requirement already satisfied: soupsieve>1.2 in /usr/local/lib/python3.10/dist-packages (from beautifulsoup4) (2.5)\n"
          ]
        }
      ]
    },
    {
      "cell_type": "code",
      "source": [
        "import requests\n",
        "from bs4 import BeautifulSoup"
      ],
      "metadata": {
        "id": "kcMnSB-yL3uI"
      },
      "execution_count": 29,
      "outputs": []
    },
    {
      "cell_type": "code",
      "source": [
        "def fetch_yahoo_news_headlines(stock_symbol):\n",
        "    \"\"\"\n",
        "    Fetch news headlines from Yahoo News for a given stock symbol.\n",
        "    :param stock_symbol: Stock symbol for which to fetch news.\n",
        "    :return: List of news headlines.\n",
        "    \"\"\"\n",
        "    url = f\"https://news.search.yahoo.com/search?p={stock_symbol}\"\n",
        "    headers = {'User-Agent': 'Mozilla/5.0'}  # User-Agent header to mimic a browser request\n",
        "    response = requests.get(url, headers=headers)\n",
        "\n",
        "    if response.status_code != 200:\n",
        "        return []  # Return an empty list if there's an error fetching the page\n",
        "\n",
        "    soup = BeautifulSoup(response.text, 'html.parser')\n",
        "    headlines = soup.find_all('h4', class_='s-title')\n",
        "    return [headline.get_text().strip() for headline in headlines]"
      ],
      "metadata": {
        "id": "DDv0sdmiMXc0"
      },
      "execution_count": 30,
      "outputs": []
    },
    {
      "cell_type": "code",
      "source": [
        "# List of stocks\n",
        "stocks = ['BAJFINANCE.NS', 'HDFCAMC.NS', 'ASIANPAINT.NS', 'TCS.NS', 'DRREDDY.NS']\n",
        "\n",
        "# Fetch and print headlines for each stock\n",
        "for stock in stocks:\n",
        "    headlines = fetch_yahoo_news_headlines(stock)\n",
        "    print(f\"Headlines for {stock}:\")\n",
        "    for headline in headlines:\n",
        "        print(f\" - {headline}\")\n",
        "    print(\"\\n\")"
      ],
      "metadata": {
        "colab": {
          "base_uri": "https://localhost:8080/"
        },
        "id": "Y-h_21Z0McZq",
        "outputId": "5de54a5d-00c3-4e4f-cc57-1bc2e6f6815f"
      },
      "execution_count": 31,
      "outputs": [
        {
          "output_type": "stream",
          "name": "stdout",
          "text": [
            "Headlines for BAJFINANCE.NS:\n",
            "\n",
            "\n",
            "Headlines for HDFCAMC.NS:\n",
            "\n",
            "\n",
            "Headlines for ASIANPAINT.NS:\n",
            " - India's Asian paints posts 45% rise in Q4 profit on strong demand, easing costs\n",
            " - 16 Biggest Paint Companies in the World\n",
            " - Top 20 Most Valuable Indian Companies\n",
            " - India's Indigo Paints Q2 profit more than doubles\n",
            " - UPDATE 1-India's Britannia names Domino's executive Rajneet Kohli as CEO\n",
            " - Indian shares end lower for seventh session; await RBI policy\n",
            " - Indian shares recover as ONGC, Hindalco rise on commodity rebound\n",
            " - Indian shares fall as global recession fears mount\n",
            " - Indian shares end at 2-month lows on slowdown worries\n",
            " - Indian shares extend losses for third day as metal, energy stocks drop\n",
            "\n",
            "\n",
            "Headlines for TCS.NS:\n",
            " - India's TCS, Infosys jump on upbeat results, lift IT stocks\n",
            " - India's TCS third-quarter revenue tops estimates\n",
            " - Nifty only 100 points away from crossing another milestone of 22k\n",
            " - Trending tickers: Tesco, M&S, Whitbread and Tata Consultancy Services\n",
            " - Infosys surges 7% to power Sensex gains of more than 600 points\n",
            " - IT, Realty indices gain 4% during the week\n",
            " - India's Nifty 50 set for muted start with IT stocks in focus\n",
            " - India's Nifty 50 set to open higher tracking Asian peers\n",
            " - No consistency in FII, DII behaviour this month\n",
            " - India's Infosys Q3 profit misses view on weak demand, tightens FY rev forecast\n",
            "\n",
            "\n",
            "Headlines for DRREDDY.NS:\n",
            "\n",
            "\n"
          ]
        }
      ]
    },
    {
      "cell_type": "markdown",
      "source": [
        "**Sentiment Analysis:**"
      ],
      "metadata": {
        "id": "pkm3qFllM94W"
      }
    },
    {
      "cell_type": "code",
      "source": [
        "from textblob import TextBlob"
      ],
      "metadata": {
        "id": "NnXvGJBnNBJl"
      },
      "execution_count": 32,
      "outputs": []
    },
    {
      "cell_type": "code",
      "source": [
        "def analyze_sentiment(headlines):\n",
        "    \"\"\"\n",
        "    Analyze the sentiment of a list of headlines.\n",
        "    :param headlines: List of news headlines.\n",
        "    :return: Average polarity and subjectivity.\n",
        "    \"\"\"\n",
        "    total_polarity = 0\n",
        "    total_subjectivity = 0\n",
        "    num_headlines = len(headlines)\n",
        "\n",
        "    for headline in headlines:\n",
        "        analysis = TextBlob(headline)\n",
        "        total_polarity += analysis.sentiment.polarity\n",
        "        total_subjectivity += analysis.sentiment.subjectivity\n",
        "\n",
        "    # Avoid division by zero\n",
        "    if num_headlines == 0:\n",
        "        return 0, 0\n",
        "\n",
        "    average_polarity = total_polarity / num_headlines\n",
        "    average_subjectivity = total_subjectivity / num_headlines\n",
        "    return average_polarity, average_subjectivity\n",
        "\n",
        "\n",
        "\n",
        "# Perform sentiment analysis for each stock\n",
        "for stock in stocks:\n",
        "    headlines = fetch_yahoo_news_headlines(stock)\n",
        "    average_polarity, average_subjectivity = analyze_sentiment(headlines)\n",
        "    print(f\"Sentiment Analysis for {stock}:\")\n",
        "    print(f\" - Average Polarity: {average_polarity}\")\n",
        "    print(f\" - Average Subjectivity: {average_subjectivity}\")\n",
        "    print(\"\\n\")"
      ],
      "metadata": {
        "colab": {
          "base_uri": "https://localhost:8080/"
        },
        "id": "S2rRVud_NDdc",
        "outputId": "816873c2-370a-4b7d-ca32-e6a277403fbd"
      },
      "execution_count": 33,
      "outputs": [
        {
          "output_type": "stream",
          "name": "stdout",
          "text": [
            "Sentiment Analysis for BAJFINANCE.NS:\n",
            " - Average Polarity: 0\n",
            " - Average Subjectivity: 0\n",
            "\n",
            "\n",
            "Sentiment Analysis for HDFCAMC.NS:\n",
            " - Average Polarity: 0\n",
            " - Average Subjectivity: 0\n",
            "\n",
            "\n",
            "Sentiment Analysis for ASIANPAINT.NS:\n",
            " - Average Polarity: 0.12166666666666667\n",
            " - Average Subjectivity: 0.13666666666666666\n",
            "\n",
            "\n",
            "Sentiment Analysis for TCS.NS:\n",
            " - Average Polarity: 0.020833333333333336\n",
            " - Average Subjectivity: 0.2458333333333333\n",
            "\n",
            "\n",
            "Sentiment Analysis for DRREDDY.NS:\n",
            " - Average Polarity: 0\n",
            " - Average Subjectivity: 0\n",
            "\n",
            "\n"
          ]
        }
      ]
    },
    {
      "cell_type": "markdown",
      "source": [
        " add two new columns to each of these datasets: sentiment_polarity and sentiment_subjectivity."
      ],
      "metadata": {
        "id": "7AL_iV3VOQW1"
      }
    },
    {
      "cell_type": "code",
      "source": [
        "# Sentiment scores from your analysis\n",
        "sentiment_scores = {\n",
        "    'BAJFINANCE.NS': {'polarity': 0, 'subjectivity': 0},\n",
        "    'HDFCAMC.NS': {'polarity': 0, 'subjectivity': 0},\n",
        "    'ASIANPAINT.NS': {'polarity': 0.12166666666666667, 'subjectivity': 0.13666666666666666},\n",
        "    'TCS.NS': {'polarity': 0.020833333333333336, 'subjectivity': 0.2458333333333333},\n",
        "    'DRREDDY.NS': {'polarity': 0, 'subjectivity': 0}\n",
        "}"
      ],
      "metadata": {
        "id": "_FYJJGoBNMiB"
      },
      "execution_count": 34,
      "outputs": []
    },
    {
      "cell_type": "code",
      "source": [
        "# Add the sentiment scores to each stock's DataFrame\n",
        "for stock, scores in sentiment_scores.items():\n",
        "    stock_data[stock]['sentiment_polarity'] = scores['polarity']\n",
        "    stock_data[stock]['sentiment_subjectivity'] = scores['subjectivity']\n",
        "\n",
        "# Example: Print the updated DataFrame for one stock\n",
        "print(stock_data['TCS.NS'].head())"
      ],
      "metadata": {
        "id": "L6uIJN4kOYBB"
      },
      "execution_count": null,
      "outputs": []
    },
    {
      "cell_type": "code",
      "source": [
        "print(stock_data['TCS.NS'].head())"
      ],
      "metadata": {
        "id": "ei6PaquRQB82"
      },
      "execution_count": null,
      "outputs": []
    },
    {
      "cell_type": "markdown",
      "source": [
        "**Calculating Nifty Trend:**"
      ],
      "metadata": {
        "id": "MIfGxFoHRcnr"
      }
    },
    {
      "cell_type": "code",
      "source": [
        "import yfinance as yf\n",
        "\n",
        "# Fetch Nifty data\n",
        "nifty_data = yf.download('^NSEI', start='2013-01-01', end='2023-01-01')\n"
      ],
      "metadata": {
        "colab": {
          "base_uri": "https://localhost:8080/"
        },
        "id": "_pEc8tC8RgUB",
        "outputId": "e7e422c0-21bc-49ba-8eb5-5f241b76f63f"
      },
      "execution_count": 40,
      "outputs": [
        {
          "output_type": "stream",
          "name": "stdout",
          "text": [
            "\r[*********************100%%**********************]  1 of 1 completed\n"
          ]
        }
      ]
    },
    {
      "cell_type": "code",
      "source": [
        "nifty_data = calculate_macd(nifty_data)\n",
        "nifty_data = calculate_rsi(nifty_data)\n",
        "nifty_data = calculate_bollinger_bands(nifty_data)\n",
        "nifty_data = calculate_fibonacci_retracement(nifty_data)\n",
        "nifty_data = calculate_atr(nifty_data)"
      ],
      "metadata": {
        "id": "r3UbrYaJRinY"
      },
      "execution_count": 41,
      "outputs": []
    },
    {
      "cell_type": "markdown",
      "source": [
        "**Merge Nifty Data with Each Stock's Data**"
      ],
      "metadata": {
        "id": "lOWcnmOnRp8R"
      }
    },
    {
      "cell_type": "code",
      "source": [
        "for stock in stock_data:\n",
        "    # Merge on the 'Date' column\n",
        "    stock_data[stock] = stock_data[stock].merge(nifty_data, on='Date', how='left', suffixes=('', '_nifty'))\n"
      ],
      "metadata": {
        "id": "6SVEMaYtRmfG"
      },
      "execution_count": 42,
      "outputs": []
    },
    {
      "cell_type": "code",
      "source": [
        "# Example check\n",
        "print(stock_data['BAJFINANCE.NS'].head())\n"
      ],
      "metadata": {
        "colab": {
          "base_uri": "https://localhost:8080/"
        },
        "id": "OlZ8dNyQRwO5",
        "outputId": "e6228035-b539-41bf-cba0-c2f8b619fab3"
      },
      "execution_count": 43,
      "outputs": [
        {
          "output_type": "stream",
          "name": "stdout",
          "text": [
            "                  Open        High         Low       Close   Adj Close  \\\n",
            "Date                                                                     \n",
            "2013-01-01  131.678406  133.378677  131.610397  132.635406  126.483398   \n",
            "2013-01-02  134.063644  134.078217  130.400772  131.178040  125.093620   \n",
            "2013-01-03  132.586838  139.290741  131.649261  134.709747  128.461517   \n",
            "2013-01-04  134.559143  136.978378  134.466843  134.772888  128.521713   \n",
            "2013-01-07  135.438431  137.571045  133.713867  134.573715  128.331787   \n",
            "\n",
            "            Volume       EMA12       EMA26      MACD  MACD_Signal  ...  \\\n",
            "Date                                                               ...   \n",
            "2013-01-01  139432  132.635406  132.635406  0.000000     0.000000  ...   \n",
            "2013-01-02  316514  132.411196  132.527453 -0.116257    -0.023251  ...   \n",
            "2013-01-03  479558  132.764819  132.689105  0.075715    -0.003458  ...   \n",
            "2013-01-04  279019  133.073753  132.843459  0.230294     0.043292  ...   \n",
            "2013-01-07  232013  133.304516  132.971626  0.332890     0.101212  ...   \n",
            "\n",
            "            MACD_Signal_nifty  RSI_nifty  Middle_Band_nifty  STD_nifty  \\\n",
            "Date                                                                     \n",
            "2013-01-01                NaN        NaN                NaN        NaN   \n",
            "2013-01-02           0.000000        NaN                NaN        NaN   \n",
            "2013-01-03           0.259259        NaN                NaN        NaN   \n",
            "2013-01-04           0.772931        NaN                NaN        NaN   \n",
            "2013-01-07           0.974639        NaN                NaN        NaN   \n",
            "\n",
            "            Upper_Band_nifty  Lower_Band_nifty  Fibonacci_Level_1_nifty  \\\n",
            "Date                                                                      \n",
            "2013-01-01               NaN               NaN                      NaN   \n",
            "2013-01-02               NaN               NaN             15638.174725   \n",
            "2013-01-03               NaN               NaN             15638.174725   \n",
            "2013-01-04               NaN               NaN             15638.174725   \n",
            "2013-01-07               NaN               NaN             15638.174725   \n",
            "\n",
            "            Fibonacci_Level_2_nifty  Fibonacci_Level_3_nifty  ATR_nifty  \n",
            "Date                                                                     \n",
            "2013-01-01                      NaN                      NaN        NaN  \n",
            "2013-01-02             13627.937296             10378.512411        NaN  \n",
            "2013-01-03             13627.937296             10378.512411        NaN  \n",
            "2013-01-04             13627.937296             10378.512411        NaN  \n",
            "2013-01-07             13627.937296             10378.512411        NaN  \n",
            "\n",
            "[5 rows x 40 columns]\n"
          ]
        }
      ]
    },
    {
      "cell_type": "markdown",
      "source": [
        "**Dropping NAN rows:**"
      ],
      "metadata": {
        "id": "PWWXCN7SSZp1"
      }
    },
    {
      "cell_type": "code",
      "source": [
        "for stock in stock_data:\n",
        "    stock_data[stock].dropna(inplace=True)\n"
      ],
      "metadata": {
        "id": "pz_54-BRSQXf"
      },
      "execution_count": 44,
      "outputs": []
    },
    {
      "cell_type": "code",
      "source": [
        "print(stock_data['BAJFINANCE.NS'].head())"
      ],
      "metadata": {
        "id": "FHHmO1NTSVYC"
      },
      "execution_count": null,
      "outputs": []
    },
    {
      "cell_type": "code",
      "source": [
        "# Assuming each DataFrame in stock_data has columns for 'Close', 'MACD', 'RSI', etc.\n",
        "\n",
        "for stock, df in stock_data.items():\n",
        "    # 1. Calculate Expected Returns - Simple Moving Average of past weekly returns\n",
        "    df['Weekly_Return'] = df['Close'].pct_change(periods=5)  # 5 days for a week\n",
        "    df['Expected_Return'] = df['Weekly_Return'].rolling(window=5).mean()\n",
        "\n",
        "    # 2. Assess Risk - Standard Deviation of weekly returns\n",
        "    df['Risk'] = df['Weekly_Return'].rolling(window=5).std()\n",
        "\n",
        "    # 3. Evaluate Indicator Positivity - Example: MACD\n",
        "    df['Indicator_Score'] = np.where(df['MACD'] > df['MACD_Signal'], 1, -1)\n",
        "\n",
        "    # 4. Composite Performance Score\n",
        "    # Adjust weights as necessary\n",
        "    df['Composite_Score'] = df['Expected_Return'] - df['Risk'] + df['Indicator_Score']\n",
        "\n",
        "# 5. Identifying the Best Stock\n",
        "combined_df = pd.concat(stock_data.values())\n",
        "best_stocks_weekly = combined_df.groupby(combined_df.index)['Composite_Score'].idxmax()\n",
        "combined_df['Target'] = combined_df.index.isin(best_stocks_weekly).astype(int)\n",
        "\n",
        "# Separate the combined DataFrame back into individual stocks\n",
        "for stock in stock_data.keys():\n",
        "    stock_data[stock] = combined_df[combined_df['Stock'] == stock]\n"
      ],
      "metadata": {
        "id": "2PRjpdfmYOYq"
      },
      "execution_count": 49,
      "outputs": []
    },
    {
      "cell_type": "markdown",
      "source": [
        "**Add Stock Label and Concatenate All DataFrames**"
      ],
      "metadata": {
        "id": "F8Jdrm1fUeB7"
      }
    },
    {
      "cell_type": "code",
      "source": [
        "import pandas as pd\n",
        "\n",
        "# Assuming stock_data is your dictionary of DataFrames\n",
        "combined_df = pd.DataFrame()\n",
        "\n",
        "for stock, df in stock_data.items():\n",
        "    df['Stock'] = stock  # Add a column for the stock label\n",
        "    combined_df = pd.concat([combined_df, df])  # Concatenate to the combined DataFrame\n"
      ],
      "metadata": {
        "id": "55KCGzpfSdre"
      },
      "execution_count": 46,
      "outputs": []
    },
    {
      "cell_type": "code",
      "source": [
        "print(combined_df.columns.tolist())"
      ],
      "metadata": {
        "colab": {
          "base_uri": "https://localhost:8080/"
        },
        "id": "8VG8yxuNZnZg",
        "outputId": "05b66a5f-7876-43d5-bdad-50128a6c3e55"
      },
      "execution_count": 50,
      "outputs": [
        {
          "output_type": "stream",
          "name": "stdout",
          "text": [
            "['Open', 'High', 'Low', 'Close', 'Adj Close', 'Volume', 'EMA12', 'EMA26', 'MACD', 'MACD_Signal', 'RSI', 'Middle_Band', 'STD', 'Upper_Band', 'Lower_Band', 'Fibonacci_Level_1', 'Fibonacci_Level_2', 'Fibonacci_Level_3', 'ATR', 'sentiment_polarity', 'sentiment_subjectivity', 'Open_nifty', 'High_nifty', 'Low_nifty', 'Close_nifty', 'Adj Close_nifty', 'Volume_nifty', 'EMA12_nifty', 'EMA26_nifty', 'MACD_nifty', 'MACD_Signal_nifty', 'RSI_nifty', 'Middle_Band_nifty', 'STD_nifty', 'Upper_Band_nifty', 'Lower_Band_nifty', 'Fibonacci_Level_1_nifty', 'Fibonacci_Level_2_nifty', 'Fibonacci_Level_3_nifty', 'ATR_nifty', 'Stock', 'weekly_return', 'risk', 'indicator_score', 'composite_score', 'Weekly_Return', 'Expected_Return', 'Risk', 'Indicator_Score', 'Composite_Score', 'Target']\n"
          ]
        }
      ]
    },
    {
      "cell_type": "code",
      "source": [
        "from sklearn.preprocessing import MinMaxScaler\n",
        "import numpy as np\n",
        "from sklearn.model_selection import train_test_split\n",
        "import pandas as pd\n",
        "from tensorflow.keras.models import Sequential\n",
        "from tensorflow.keras.layers import LSTM, Dense, Dropout"
      ],
      "metadata": {
        "id": "x0ChrXh8aueS"
      },
      "execution_count": 51,
      "outputs": []
    },
    {
      "cell_type": "code",
      "source": [
        "# Select features for the LSTM model, excluding the target and non-numeric columns\n",
        "features = ['Open', 'High', 'Low', 'Close', 'Adj Close', 'Volume', 'EMA12', 'EMA26', 'MACD', 'MACD_Signal', 'RSI',\n",
        "            'Middle_Band', 'STD', 'Upper_Band', 'Lower_Band', 'Fibonacci_Level_1', 'Fibonacci_Level_2', 'Fibonacci_Level_3',\n",
        "            'ATR', 'sentiment_polarity', 'sentiment_subjectivity', 'Open_nifty', 'High_nifty', 'Low_nifty',\n",
        "            'Close_nifty', 'Adj Close_nifty', 'Volume_nifty', 'EMA12_nifty', 'EMA26_nifty', 'MACD_nifty',\n",
        "            'MACD_Signal_nifty', 'RSI_nifty', 'Middle_Band_nifty', 'STD_nifty', 'Upper_Band_nifty', 'Lower_Band_nifty',\n",
        "            'Fibonacci_Level_1_nifty', 'Fibonacci_Level_2_nifty', 'Fibonacci_Level_3_nifty', 'ATR_nifty']\n"
      ],
      "metadata": {
        "id": "6d1qBs4VawCy"
      },
      "execution_count": 52,
      "outputs": []
    },
    {
      "cell_type": "code",
      "source": [
        "X = combined_df[features]\n",
        "y = combined_df['Target']"
      ],
      "metadata": {
        "id": "iu4ISUm-a0UY"
      },
      "execution_count": 53,
      "outputs": []
    },
    {
      "cell_type": "code",
      "source": [
        "# Normalize Features\n",
        "scaler = MinMaxScaler(feature_range=(0, 1))\n",
        "X_scaled = scaler.fit_transform(X)"
      ],
      "metadata": {
        "id": "k7BntfHya6PC"
      },
      "execution_count": 54,
      "outputs": []
    },
    {
      "cell_type": "code",
      "source": [
        "# Convert Data to Time Series Format\n",
        "def create_dataset(X, y, time_steps=1):\n",
        "    Xs, ys = [], []\n",
        "    for i in range(len(X) - time_steps):\n",
        "        Xs.append(X[i:(i + time_steps)])\n",
        "        ys.append(y.iloc[i + time_steps])\n",
        "    return np.array(Xs), np.array(ys)"
      ],
      "metadata": {
        "id": "gpH_Wimja7pn"
      },
      "execution_count": 55,
      "outputs": []
    },
    {
      "cell_type": "code",
      "source": [
        "time_steps = 60  # use 60 days of historical data\n",
        "X_series, y_series = create_dataset(pd.DataFrame(X_scaled), y, time_steps)\n",
        "\n",
        "# Split the data\n",
        "X_train, X_test, y_train, y_test = train_test_split(X_series, y_series, test_size=0.2, random_state=42)"
      ],
      "metadata": {
        "id": "4-wkLAw2a_NP"
      },
      "execution_count": 56,
      "outputs": []
    },
    {
      "cell_type": "code",
      "source": [
        "# LSTM Model\n",
        "model = Sequential()\n",
        "model.add(LSTM(50, return_sequences=True, input_shape=(X_train.shape[1], X_train.shape[2])))\n",
        "model.add(Dropout(0.2))\n",
        "model.add(LSTM(50, return_sequences=False))\n",
        "model.add(Dropout(0.2))\n",
        "model.add(Dense(25))\n",
        "model.add(Dense(1, activation='sigmoid'))  # Sigmoid for binary classification\n",
        "\n",
        "model.compile(optimizer='adam', loss='binary_crossentropy', metrics=['accuracy'])\n"
      ],
      "metadata": {
        "id": "Ko0WRpJAbG7Y"
      },
      "execution_count": 57,
      "outputs": []
    },
    {
      "cell_type": "code",
      "source": [
        "# Train the Model\n",
        "model.fit(X_train, y_train, epochs=100, batch_size=32, validation_split=0.1)"
      ],
      "metadata": {
        "colab": {
          "base_uri": "https://localhost:8080/"
        },
        "id": "dBsg9b-XbLRj",
        "outputId": "5560f82c-2e25-41cb-d062-a90359e063fe"
      },
      "execution_count": 58,
      "outputs": [
        {
          "output_type": "stream",
          "name": "stdout",
          "text": [
            "Epoch 1/100\n",
            "242/242 [==============================] - 29s 79ms/step - loss: 0.0280 - accuracy: 0.9956 - val_loss: 0.0363 - val_accuracy: 0.9942\n",
            "Epoch 2/100\n",
            "242/242 [==============================] - 19s 76ms/step - loss: 0.0155 - accuracy: 0.9979 - val_loss: 0.0448 - val_accuracy: 0.9942\n",
            "Epoch 3/100\n",
            "242/242 [==============================] - 16s 67ms/step - loss: 0.0157 - accuracy: 0.9979 - val_loss: 0.0369 - val_accuracy: 0.9942\n",
            "Epoch 4/100\n",
            "242/242 [==============================] - 16s 67ms/step - loss: 0.0158 - accuracy: 0.9979 - val_loss: 0.0355 - val_accuracy: 0.9942\n",
            "Epoch 5/100\n",
            "242/242 [==============================] - 16s 66ms/step - loss: 0.0151 - accuracy: 0.9979 - val_loss: 0.0293 - val_accuracy: 0.9942\n",
            "Epoch 6/100\n",
            "242/242 [==============================] - 18s 72ms/step - loss: 0.0123 - accuracy: 0.9979 - val_loss: 0.0244 - val_accuracy: 0.9942\n",
            "Epoch 7/100\n",
            "242/242 [==============================] - 18s 73ms/step - loss: 0.0087 - accuracy: 0.9979 - val_loss: 0.0072 - val_accuracy: 0.9977\n",
            "Epoch 8/100\n",
            "242/242 [==============================] - 16s 67ms/step - loss: 0.0050 - accuracy: 0.9983 - val_loss: 0.0053 - val_accuracy: 0.9988\n",
            "Epoch 9/100\n",
            "242/242 [==============================] - 16s 68ms/step - loss: 0.0030 - accuracy: 0.9994 - val_loss: 0.0036 - val_accuracy: 0.9988\n",
            "Epoch 10/100\n",
            "242/242 [==============================] - 16s 67ms/step - loss: 0.0055 - accuracy: 0.9988 - val_loss: 0.0046 - val_accuracy: 0.9977\n",
            "Epoch 11/100\n",
            "242/242 [==============================] - 17s 70ms/step - loss: 0.0033 - accuracy: 0.9992 - val_loss: 0.0019 - val_accuracy: 1.0000\n",
            "Epoch 12/100\n",
            "242/242 [==============================] - 17s 70ms/step - loss: 0.0034 - accuracy: 0.9990 - val_loss: 0.0024 - val_accuracy: 0.9988\n",
            "Epoch 13/100\n",
            "242/242 [==============================] - 16s 68ms/step - loss: 0.0037 - accuracy: 0.9990 - val_loss: 9.4451e-04 - val_accuracy: 1.0000\n",
            "Epoch 14/100\n",
            "242/242 [==============================] - 17s 70ms/step - loss: 0.0030 - accuracy: 0.9994 - val_loss: 7.6774e-04 - val_accuracy: 1.0000\n",
            "Epoch 15/100\n",
            "242/242 [==============================] - 16s 68ms/step - loss: 0.0042 - accuracy: 0.9995 - val_loss: 0.0030 - val_accuracy: 0.9988\n",
            "Epoch 16/100\n",
            "242/242 [==============================] - 18s 75ms/step - loss: 0.0029 - accuracy: 0.9994 - val_loss: 0.0014 - val_accuracy: 1.0000\n",
            "Epoch 17/100\n",
            "242/242 [==============================] - 17s 69ms/step - loss: 0.0028 - accuracy: 0.9995 - val_loss: 9.2805e-04 - val_accuracy: 1.0000\n",
            "Epoch 18/100\n",
            "242/242 [==============================] - 17s 69ms/step - loss: 0.0029 - accuracy: 0.9994 - val_loss: 0.0013 - val_accuracy: 1.0000\n",
            "Epoch 19/100\n",
            "242/242 [==============================] - 17s 68ms/step - loss: 0.0022 - accuracy: 0.9996 - val_loss: 0.0036 - val_accuracy: 0.9988\n",
            "Epoch 20/100\n",
            "242/242 [==============================] - 17s 71ms/step - loss: 0.0041 - accuracy: 0.9990 - val_loss: 0.0015 - val_accuracy: 1.0000\n",
            "Epoch 21/100\n",
            "242/242 [==============================] - 17s 71ms/step - loss: 0.0031 - accuracy: 0.9994 - val_loss: 8.7566e-04 - val_accuracy: 1.0000\n",
            "Epoch 22/100\n",
            "242/242 [==============================] - 17s 69ms/step - loss: 0.0023 - accuracy: 0.9996 - val_loss: 3.4601e-04 - val_accuracy: 1.0000\n",
            "Epoch 23/100\n",
            "242/242 [==============================] - 17s 68ms/step - loss: 0.0024 - accuracy: 0.9997 - val_loss: 0.0052 - val_accuracy: 0.9988\n",
            "Epoch 24/100\n",
            "242/242 [==============================] - 17s 72ms/step - loss: 0.0041 - accuracy: 0.9991 - val_loss: 7.8494e-04 - val_accuracy: 1.0000\n",
            "Epoch 25/100\n",
            "242/242 [==============================] - 18s 73ms/step - loss: 0.0028 - accuracy: 0.9996 - val_loss: 8.5816e-04 - val_accuracy: 1.0000\n",
            "Epoch 26/100\n",
            "242/242 [==============================] - 17s 69ms/step - loss: 0.0032 - accuracy: 0.9995 - val_loss: 7.2981e-04 - val_accuracy: 1.0000\n",
            "Epoch 27/100\n",
            "242/242 [==============================] - 16s 67ms/step - loss: 0.0032 - accuracy: 0.9994 - val_loss: 0.0011 - val_accuracy: 1.0000\n",
            "Epoch 28/100\n",
            "242/242 [==============================] - 16s 68ms/step - loss: 0.0028 - accuracy: 0.9995 - val_loss: 7.8497e-04 - val_accuracy: 1.0000\n",
            "Epoch 29/100\n",
            "242/242 [==============================] - 17s 69ms/step - loss: 0.0029 - accuracy: 0.9995 - val_loss: 0.0047 - val_accuracy: 0.9977\n",
            "Epoch 30/100\n",
            "242/242 [==============================] - 18s 74ms/step - loss: 0.0025 - accuracy: 0.9995 - val_loss: 0.0056 - val_accuracy: 0.9988\n",
            "Epoch 31/100\n",
            "242/242 [==============================] - 17s 68ms/step - loss: 0.0027 - accuracy: 0.9996 - val_loss: 3.8355e-04 - val_accuracy: 1.0000\n",
            "Epoch 32/100\n",
            "242/242 [==============================] - 17s 68ms/step - loss: 0.0029 - accuracy: 0.9996 - val_loss: 0.0012 - val_accuracy: 1.0000\n",
            "Epoch 33/100\n",
            "242/242 [==============================] - 16s 68ms/step - loss: 0.0027 - accuracy: 0.9995 - val_loss: 4.0245e-04 - val_accuracy: 1.0000\n",
            "Epoch 34/100\n",
            "242/242 [==============================] - 17s 69ms/step - loss: 0.0025 - accuracy: 0.9995 - val_loss: 1.3925e-04 - val_accuracy: 1.0000\n",
            "Epoch 35/100\n",
            "242/242 [==============================] - 18s 74ms/step - loss: 0.0023 - accuracy: 0.9996 - val_loss: 0.0017 - val_accuracy: 0.9988\n",
            "Epoch 36/100\n",
            "242/242 [==============================] - 17s 68ms/step - loss: 0.0023 - accuracy: 0.9995 - val_loss: 0.0015 - val_accuracy: 0.9988\n",
            "Epoch 37/100\n",
            "242/242 [==============================] - 17s 69ms/step - loss: 0.0024 - accuracy: 0.9996 - val_loss: 0.0067 - val_accuracy: 0.9988\n",
            "Epoch 38/100\n",
            "242/242 [==============================] - 17s 68ms/step - loss: 0.0029 - accuracy: 0.9995 - val_loss: 0.0013 - val_accuracy: 0.9988\n",
            "Epoch 39/100\n",
            "242/242 [==============================] - 16s 67ms/step - loss: 0.0029 - accuracy: 0.9996 - val_loss: 9.5700e-04 - val_accuracy: 1.0000\n",
            "Epoch 40/100\n",
            "242/242 [==============================] - 18s 75ms/step - loss: 0.0026 - accuracy: 0.9997 - val_loss: 5.0308e-04 - val_accuracy: 1.0000\n",
            "Epoch 41/100\n",
            "242/242 [==============================] - 16s 68ms/step - loss: 0.0019 - accuracy: 0.9997 - val_loss: 9.4950e-04 - val_accuracy: 1.0000\n",
            "Epoch 42/100\n",
            "242/242 [==============================] - 17s 69ms/step - loss: 0.0029 - accuracy: 0.9992 - val_loss: 0.0027 - val_accuracy: 0.9988\n",
            "Epoch 43/100\n",
            "242/242 [==============================] - 16s 67ms/step - loss: 0.0024 - accuracy: 0.9996 - val_loss: 0.0013 - val_accuracy: 0.9988\n",
            "Epoch 44/100\n",
            "242/242 [==============================] - 17s 72ms/step - loss: 0.0018 - accuracy: 0.9997 - val_loss: 7.5299e-04 - val_accuracy: 1.0000\n",
            "Epoch 45/100\n",
            "242/242 [==============================] - 17s 71ms/step - loss: 0.0023 - accuracy: 0.9997 - val_loss: 5.6723e-04 - val_accuracy: 1.0000\n",
            "Epoch 46/100\n",
            "242/242 [==============================] - 16s 68ms/step - loss: 0.0031 - accuracy: 0.9995 - val_loss: 2.7815e-04 - val_accuracy: 1.0000\n",
            "Epoch 47/100\n",
            "242/242 [==============================] - 16s 67ms/step - loss: 0.0027 - accuracy: 0.9995 - val_loss: 1.8578e-04 - val_accuracy: 1.0000\n",
            "Epoch 48/100\n",
            "242/242 [==============================] - 17s 68ms/step - loss: 0.0023 - accuracy: 0.9995 - val_loss: 1.0677e-04 - val_accuracy: 1.0000\n",
            "Epoch 49/100\n",
            "242/242 [==============================] - 18s 75ms/step - loss: 0.0022 - accuracy: 0.9997 - val_loss: 0.0017 - val_accuracy: 0.9988\n",
            "Epoch 50/100\n",
            "242/242 [==============================] - 17s 70ms/step - loss: 0.0022 - accuracy: 0.9996 - val_loss: 1.7233e-04 - val_accuracy: 1.0000\n",
            "Epoch 51/100\n",
            "242/242 [==============================] - 16s 68ms/step - loss: 0.0025 - accuracy: 0.9996 - val_loss: 4.7056e-04 - val_accuracy: 1.0000\n",
            "Epoch 52/100\n",
            "242/242 [==============================] - 17s 69ms/step - loss: 0.0024 - accuracy: 0.9996 - val_loss: 1.4976e-04 - val_accuracy: 1.0000\n",
            "Epoch 53/100\n",
            "242/242 [==============================] - 17s 72ms/step - loss: 0.0023 - accuracy: 0.9995 - val_loss: 0.0038 - val_accuracy: 0.9988\n",
            "Epoch 54/100\n",
            "242/242 [==============================] - 17s 71ms/step - loss: 0.0024 - accuracy: 0.9994 - val_loss: 0.0024 - val_accuracy: 0.9988\n",
            "Epoch 55/100\n",
            "242/242 [==============================] - 17s 68ms/step - loss: 0.0022 - accuracy: 0.9996 - val_loss: 7.7646e-04 - val_accuracy: 1.0000\n",
            "Epoch 56/100\n",
            "242/242 [==============================] - 17s 71ms/step - loss: 0.0017 - accuracy: 0.9997 - val_loss: 0.0010 - val_accuracy: 1.0000\n",
            "Epoch 57/100\n",
            "242/242 [==============================] - 17s 69ms/step - loss: 0.0018 - accuracy: 0.9997 - val_loss: 2.6768e-05 - val_accuracy: 1.0000\n",
            "Epoch 58/100\n",
            "242/242 [==============================] - 19s 77ms/step - loss: 0.0030 - accuracy: 0.9995 - val_loss: 0.0019 - val_accuracy: 0.9988\n",
            "Epoch 59/100\n",
            "242/242 [==============================] - 17s 70ms/step - loss: 0.0029 - accuracy: 0.9995 - val_loss: 6.0362e-04 - val_accuracy: 1.0000\n",
            "Epoch 60/100\n",
            "242/242 [==============================] - 17s 69ms/step - loss: 0.0022 - accuracy: 0.9997 - val_loss: 6.5682e-04 - val_accuracy: 1.0000\n",
            "Epoch 61/100\n",
            "242/242 [==============================] - 17s 69ms/step - loss: 0.0025 - accuracy: 0.9996 - val_loss: 0.0067 - val_accuracy: 0.9988\n",
            "Epoch 62/100\n",
            "242/242 [==============================] - 17s 72ms/step - loss: 0.0024 - accuracy: 0.9996 - val_loss: 0.0014 - val_accuracy: 0.9988\n",
            "Epoch 63/100\n",
            "242/242 [==============================] - 17s 70ms/step - loss: 0.0021 - accuracy: 0.9995 - val_loss: 0.0056 - val_accuracy: 0.9988\n",
            "Epoch 64/100\n",
            "242/242 [==============================] - 17s 69ms/step - loss: 0.0022 - accuracy: 0.9996 - val_loss: 0.0023 - val_accuracy: 1.0000\n",
            "Epoch 65/100\n",
            "242/242 [==============================] - 17s 70ms/step - loss: 0.0021 - accuracy: 0.9997 - val_loss: 6.3878e-04 - val_accuracy: 1.0000\n",
            "Epoch 66/100\n",
            "242/242 [==============================] - 17s 69ms/step - loss: 0.0020 - accuracy: 0.9997 - val_loss: 0.0019 - val_accuracy: 0.9988\n",
            "Epoch 67/100\n",
            "242/242 [==============================] - 18s 75ms/step - loss: 0.0019 - accuracy: 0.9996 - val_loss: 7.5428e-04 - val_accuracy: 1.0000\n",
            "Epoch 68/100\n",
            "242/242 [==============================] - 17s 69ms/step - loss: 0.0029 - accuracy: 0.9995 - val_loss: 5.0510e-04 - val_accuracy: 1.0000\n",
            "Epoch 69/100\n",
            "242/242 [==============================] - 17s 70ms/step - loss: 0.0026 - accuracy: 0.9996 - val_loss: 0.0011 - val_accuracy: 1.0000\n",
            "Epoch 70/100\n",
            "242/242 [==============================] - 17s 70ms/step - loss: 0.0019 - accuracy: 0.9997 - val_loss: 0.0045 - val_accuracy: 0.9988\n",
            "Epoch 71/100\n",
            "242/242 [==============================] - 18s 75ms/step - loss: 0.0024 - accuracy: 0.9995 - val_loss: 0.0028 - val_accuracy: 0.9988\n",
            "Epoch 72/100\n",
            "242/242 [==============================] - 17s 69ms/step - loss: 0.0020 - accuracy: 0.9997 - val_loss: 0.0014 - val_accuracy: 0.9988\n",
            "Epoch 73/100\n",
            "242/242 [==============================] - 17s 68ms/step - loss: 0.0017 - accuracy: 0.9997 - val_loss: 0.0031 - val_accuracy: 0.9988\n",
            "Epoch 74/100\n",
            "242/242 [==============================] - 16s 68ms/step - loss: 0.0020 - accuracy: 0.9997 - val_loss: 0.0012 - val_accuracy: 1.0000\n",
            "Epoch 75/100\n",
            "242/242 [==============================] - 17s 68ms/step - loss: 0.0023 - accuracy: 0.9996 - val_loss: 0.0052 - val_accuracy: 0.9988\n",
            "Epoch 76/100\n",
            "242/242 [==============================] - 18s 76ms/step - loss: 0.0031 - accuracy: 0.9995 - val_loss: 0.0017 - val_accuracy: 0.9988\n",
            "Epoch 77/100\n",
            "242/242 [==============================] - 17s 68ms/step - loss: 0.0019 - accuracy: 0.9997 - val_loss: 0.0021 - val_accuracy: 0.9988\n",
            "Epoch 78/100\n",
            "242/242 [==============================] - 17s 70ms/step - loss: 0.0027 - accuracy: 0.9997 - val_loss: 6.9334e-04 - val_accuracy: 1.0000\n",
            "Epoch 79/100\n",
            "242/242 [==============================] - 16s 68ms/step - loss: 0.0020 - accuracy: 0.9997 - val_loss: 0.0026 - val_accuracy: 0.9988\n",
            "Epoch 80/100\n",
            "242/242 [==============================] - 17s 72ms/step - loss: 0.0020 - accuracy: 0.9996 - val_loss: 0.0048 - val_accuracy: 0.9988\n",
            "Epoch 81/100\n",
            "242/242 [==============================] - 17s 72ms/step - loss: 0.0025 - accuracy: 0.9995 - val_loss: 4.3165e-04 - val_accuracy: 1.0000\n",
            "Epoch 82/100\n",
            "242/242 [==============================] - 17s 69ms/step - loss: 0.0026 - accuracy: 0.9996 - val_loss: 6.2787e-04 - val_accuracy: 1.0000\n",
            "Epoch 83/100\n",
            "242/242 [==============================] - 17s 69ms/step - loss: 0.0021 - accuracy: 0.9996 - val_loss: 3.6735e-04 - val_accuracy: 1.0000\n",
            "Epoch 84/100\n",
            "242/242 [==============================] - 17s 69ms/step - loss: 0.0022 - accuracy: 0.9997 - val_loss: 8.9904e-04 - val_accuracy: 1.0000\n",
            "Epoch 85/100\n",
            "242/242 [==============================] - 18s 76ms/step - loss: 0.0019 - accuracy: 0.9997 - val_loss: 2.3031e-04 - val_accuracy: 1.0000\n",
            "Epoch 86/100\n",
            "242/242 [==============================] - 17s 69ms/step - loss: 0.0019 - accuracy: 0.9996 - val_loss: 5.7483e-05 - val_accuracy: 1.0000\n",
            "Epoch 87/100\n",
            "242/242 [==============================] - 17s 68ms/step - loss: 0.0028 - accuracy: 0.9994 - val_loss: 3.5640e-04 - val_accuracy: 1.0000\n",
            "Epoch 88/100\n",
            "242/242 [==============================] - 17s 69ms/step - loss: 0.0026 - accuracy: 0.9992 - val_loss: 6.7780e-04 - val_accuracy: 1.0000\n",
            "Epoch 89/100\n",
            "242/242 [==============================] - 18s 74ms/step - loss: 0.0018 - accuracy: 0.9997 - val_loss: 0.0010 - val_accuracy: 1.0000\n",
            "Epoch 90/100\n",
            "242/242 [==============================] - 17s 71ms/step - loss: 0.0017 - accuracy: 0.9997 - val_loss: 0.0011 - val_accuracy: 0.9988\n",
            "Epoch 91/100\n",
            "242/242 [==============================] - 17s 69ms/step - loss: 0.0024 - accuracy: 0.9996 - val_loss: 4.9880e-04 - val_accuracy: 1.0000\n",
            "Epoch 92/100\n",
            "242/242 [==============================] - 17s 70ms/step - loss: 0.0022 - accuracy: 0.9996 - val_loss: 8.5929e-04 - val_accuracy: 1.0000\n",
            "Epoch 93/100\n",
            "242/242 [==============================] - 17s 70ms/step - loss: 0.0022 - accuracy: 0.9994 - val_loss: 3.3443e-04 - val_accuracy: 1.0000\n",
            "Epoch 94/100\n",
            "242/242 [==============================] - 18s 75ms/step - loss: 0.0022 - accuracy: 0.9995 - val_loss: 9.6301e-04 - val_accuracy: 1.0000\n",
            "Epoch 95/100\n",
            "242/242 [==============================] - 17s 69ms/step - loss: 0.0017 - accuracy: 0.9997 - val_loss: 5.0146e-04 - val_accuracy: 1.0000\n",
            "Epoch 96/100\n",
            "242/242 [==============================] - 17s 69ms/step - loss: 0.0019 - accuracy: 0.9997 - val_loss: 1.2536e-04 - val_accuracy: 1.0000\n",
            "Epoch 97/100\n",
            "242/242 [==============================] - 17s 70ms/step - loss: 0.0019 - accuracy: 0.9997 - val_loss: 1.8997e-04 - val_accuracy: 1.0000\n",
            "Epoch 98/100\n",
            "242/242 [==============================] - 18s 76ms/step - loss: 0.0018 - accuracy: 0.9997 - val_loss: 0.0033 - val_accuracy: 0.9988\n",
            "Epoch 99/100\n",
            "242/242 [==============================] - 17s 69ms/step - loss: 0.0020 - accuracy: 0.9995 - val_loss: 0.0021 - val_accuracy: 0.9988\n",
            "Epoch 100/100\n",
            "242/242 [==============================] - 17s 71ms/step - loss: 0.0022 - accuracy: 0.9997 - val_loss: 0.0022 - val_accuracy: 0.9988\n"
          ]
        },
        {
          "output_type": "execute_result",
          "data": {
            "text/plain": [
              "<keras.src.callbacks.History at 0x780cd858a650>"
            ]
          },
          "metadata": {},
          "execution_count": 58
        }
      ]
    },
    {
      "cell_type": "markdown",
      "source": [
        "**Evaluating the Model:**"
      ],
      "metadata": {
        "id": "4BA9TgohbRDZ"
      }
    },
    {
      "cell_type": "code",
      "source": [
        "# Evaluate the model\n",
        "loss, accuracy = model.evaluate(X_test, y_test)\n",
        "print(f\"Test Accuracy: {accuracy}\")\n"
      ],
      "metadata": {
        "colab": {
          "base_uri": "https://localhost:8080/"
        },
        "id": "fuI33q-DbTBk",
        "outputId": "b55a44b8-0aa3-4d32-db5d-1e5162b60b34"
      },
      "execution_count": 59,
      "outputs": [
        {
          "output_type": "stream",
          "name": "stdout",
          "text": [
            "68/68 [==============================] - 2s 30ms/step - loss: 0.0029 - accuracy: 0.9995\n",
            "Test Accuracy: 0.9995349049568176\n"
          ]
        }
      ]
    }
  ]
}